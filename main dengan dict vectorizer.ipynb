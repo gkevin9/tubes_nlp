{
 "cells": [
  {
   "cell_type": "code",
   "execution_count": 1,
   "metadata": {},
   "outputs": [],
   "source": [
    "from sklearn.neighbors import KNeighborsClassifier\n",
    "from sklearn import preprocessing\n",
    "import pickle\n",
    "import pandas as pd\n",
    "import numpy as np\n",
    "from sklearn.feature_extraction import DictVectorizer"
   ]
  },
  {
   "cell_type": "markdown",
   "metadata": {},
   "source": [
    "<h1>Load hasil baca berita</h1>"
   ]
  },
  {
   "cell_type": "code",
   "execution_count": 2,
   "metadata": {},
   "outputs": [],
   "source": [
    "def loadPickle(name):\n",
    "    file = open(name, 'rb')\n",
    "    data = pickle.load(file)\n",
    "    file.close()\n",
    "    \n",
    "    return data"
   ]
  },
  {
   "cell_type": "code",
   "execution_count": 3,
   "metadata": {},
   "outputs": [],
   "source": [
    "def listOfDictToDataFrame(listOfDict):\n",
    "    dataFrame = pd.DataFrame(listOfDict)\n",
    "    \n",
    "    x = dataFrame.iloc[:, :-1].values\n",
    "    y = dataFrame.iloc[:, 4].values\n",
    "    \n",
    "    return dataFrame, x, y"
   ]
  },
  {
   "cell_type": "markdown",
   "metadata": {},
   "source": [
    "<h1>Bangun Label encoder</h1>"
   ]
  },
  {
   "cell_type": "code",
   "execution_count": 4,
   "metadata": {},
   "outputs": [],
   "source": [
    "forY = preprocessing.LabelEncoder()"
   ]
  },
  {
   "cell_type": "markdown",
   "metadata": {},
   "source": [
    "<h1>Baca Data Test</h1>"
   ]
  },
  {
   "cell_type": "code",
   "execution_count": 5,
   "metadata": {},
   "outputs": [],
   "source": [
    "def extFeature(words):\n",
    "    listOfDictFeature = []\n",
    "    i = 0\n",
    "    for i in range(len(words)): #iterasi dari awal tiap kata\n",
    "        dictFeature = {}\n",
    "        \n",
    "        dictFeature = inputToDict(words, i)\n",
    "        \n",
    "        listOfDictFeature.append(dictFeature)\n",
    "        \n",
    "    return listOfDictFeature\n",
    "\n",
    "def inputToDict(words, i):\n",
    "    dictFeature = {}\n",
    "    \n",
    "    dictFeature['index'] = i    \n",
    "    dictFeature['first_upper_case'] = isFirstUpper(words[i])\n",
    "    dictFeature['prev_word'] = isEdge(i, words)\n",
    "    dictFeature['word'] = words[i]\n",
    "    \n",
    "    return dictFeature\n",
    "\n",
    "def isFirstUpper(word):\n",
    "    if word[0].isupper():\n",
    "        return 'y'\n",
    "    else:\n",
    "        return 'n'\n",
    "    \n",
    "def isEdge(i, words):\n",
    "    if i == 0:\n",
    "        return 'null'\n",
    "    else:\n",
    "        return words[i-1]"
   ]
  },
  {
   "cell_type": "code",
   "execution_count": 6,
   "metadata": {},
   "outputs": [],
   "source": [
    "def readPerWord(file):\n",
    "    words = []\n",
    "    f = open(file, 'r') #open file\n",
    "    for line in f:\n",
    "        words = line.split(' ') #tiap satu baris split per kata\n",
    "    \n",
    "    f.close()\n",
    "    \n",
    "    words[len(words)-1] = words[len(words)-1].replace('\\n',' ')\n",
    "\n",
    "    return words"
   ]
  },
  {
   "cell_type": "markdown",
   "metadata": {},
   "source": [
    "<h1>Proses ==============</h1>"
   ]
  },
  {
   "cell_type": "code",
   "execution_count": 7,
   "metadata": {},
   "outputs": [],
   "source": [
    "data = loadPickle(\"training.pickle\")\n",
    "dataFrame, x, y = listOfDictToDataFrame(data)"
   ]
  },
  {
   "cell_type": "code",
   "execution_count": 8,
   "metadata": {},
   "outputs": [],
   "source": [
    "for i in data:\n",
    "    i.pop(\"jenis\")"
   ]
  },
  {
   "cell_type": "code",
   "execution_count": 9,
   "metadata": {},
   "outputs": [
    {
     "name": "stdout",
     "output_type": "stream",
     "text": [
      "1198 1399\n"
     ]
    }
   ],
   "source": [
    "v = DictVectorizer(sparse=False)\n",
    "vectorizedX = v.fit_transform(data)\n",
    "print(len(vectorizedX),len(vectorizedX[0]))"
   ]
  },
  {
   "cell_type": "code",
   "execution_count": 10,
   "metadata": {},
   "outputs": [],
   "source": [
    "#forY biar string jadi skala\n",
    "# forY = preprocessing.LabelEncoder()\n",
    "# forY.fit(y)\n",
    "# y = forY.transform(y)\n",
    "# print(len(y))"
   ]
  },
  {
   "cell_type": "markdown",
   "metadata": {},
   "source": [
    "<h3>Bangun classifier KNN</h3>"
   ]
  },
  {
   "cell_type": "code",
   "execution_count": 11,
   "metadata": {},
   "outputs": [],
   "source": [
    "from sklearn.model_selection import train_test_split\n",
    "# X_train, X_test, y_train, y_test = train_test_split(vectorizedX, y, test_size = 0.33, random_state=0)\n",
    "X_train, X_test, y_train, y_test = train_test_split(vectorizedX, y, test_size = 0.33, shuffle=False)"
   ]
  },
  {
   "cell_type": "code",
   "execution_count": 12,
   "metadata": {},
   "outputs": [
    {
     "name": "stdout",
     "output_type": "stream",
     "text": [
      "802 1399\n",
      "396 1399\n",
      "802\n",
      "396\n"
     ]
    }
   ],
   "source": [
    "print(len(X_train),len(X_train[0]))\n",
    "print(len(X_test),len(X_test[0]))\n",
    "print(len(y_train))\n",
    "print(len(y_test))"
   ]
  },
  {
   "cell_type": "code",
   "execution_count": 13,
   "metadata": {
    "scrolled": false
   },
   "outputs": [
    {
     "data": {
      "text/plain": [
       "KNeighborsClassifier(algorithm='auto', leaf_size=30, metric='minkowski',\n",
       "                     metric_params=None, n_jobs=None, n_neighbors=5, p=2,\n",
       "                     weights='uniform')"
      ]
     },
     "execution_count": 13,
     "metadata": {},
     "output_type": "execute_result"
    }
   ],
   "source": [
    "classifier = KNeighborsClassifier(n_neighbors=5)\n",
    "classifier.fit(X_train,y_train)"
   ]
  },
  {
   "cell_type": "code",
   "execution_count": 14,
   "metadata": {},
   "outputs": [],
   "source": [
    "testWord = readPerWord(\"test.txt\")\n",
    "listOfDictFeature = extFeature(testWord)\n",
    "# df = pd.DataFrame(listOfDictFeature)\n",
    "\n",
    "#mengubah data frame ke list\n",
    "# newdf = df.iloc[:, :].values"
   ]
  },
  {
   "cell_type": "code",
   "execution_count": 15,
   "metadata": {},
   "outputs": [
    {
     "name": "stdout",
     "output_type": "stream",
     "text": [
      "32 63\n"
     ]
    }
   ],
   "source": [
    "# new_v = DictVectorizer(sparse=False)\n",
    "vectorizedTest = v.fit_transform(listOfDictFeature)\n",
    "print(len(vectorizedTest),len(vectorizedTest[0]))"
   ]
  },
  {
   "cell_type": "markdown",
   "metadata": {},
   "source": [
    "<h3>Prediksi</h3>"
   ]
  },
  {
   "cell_type": "code",
   "execution_count": 16,
   "metadata": {
    "scrolled": true
   },
   "outputs": [],
   "source": [
    "y_pred = classifier.predict(X_test)"
   ]
  },
  {
   "cell_type": "code",
   "execution_count": 17,
   "metadata": {
    "scrolled": false
   },
   "outputs": [
    {
     "name": "stdout",
     "output_type": "stream",
     "text": [
      "['o' 'o' 'o' 'o' 'o' 'o' 'o' 'o' 'o' 'o' 'o' 'o' 'o' 'o' 'o' 'o' 'o' 'o'\n",
      " 'o' 'o' 'o' 'o' 'o' 'o' 'o' 'o' 'o' 'o' 'o' 'o' 'o' 'o' 'o' 'o' 'o' 'o'\n",
      " 'o' 'o' 'o' 'o' 'o' 'o' 'o' 'o' 'o' 'o' 'o' 'o' 'o' 'o' 'o' 'o' 'o' 'o'\n",
      " 'o' 'o' 'o' 'o' 'o' 'o' 'o' 'o' 'o' 'o' 'o' 'o' 'o' 'o' 'o' 'o' 'o' 'o'\n",
      " 'o' 'o' 'o' 'o' 'o' 'o' 'o' 'o' 'o' 'o' 'o' 'o' 'o' 'o' 'o' 'o' 'o' 'o'\n",
      " 'o' 'o' 'o' 'o' 'o' 'o' 'o' 'o' 'o' 'o' 'o' 'o' 'o' 'o' 'o' 'o' 'o' 'o'\n",
      " 'o' 'o' 'o' 'o' 'o' 'o' 'o' 'o' 'o' 'o' 'o' 'o' 'o' 'o' 'o' 'o' 'o' 'o'\n",
      " 'o' 'o' 'o' 'o' 'o' 'o' 'o' 'o' 'o' 'o' 'o' 'o' 'o' 'o' 'o' 'o' 'o' 'o'\n",
      " 'o' 'o' 'o' 'o' 'o' 'o' 'o' 'o' 'o' 'o' 'o' 'o' 'o' 'o' 'o' 'o' 'o' 'o'\n",
      " 'o' 'o' 'o' 'o' 'o' 'o' 'o' 'o' 'o' 'o' 'o' 'o' 'o' 'o' 'o' 'o' 'o' 'o'\n",
      " 'o' 'o' 'o' 'o' 'o' 'o' 'o' 'o' 'o' 'o' 'o' 'o' 'o' 'o' 'o' 'o' 'o' 'o'\n",
      " 'o' 'o' 'o' 'o' 'o' 'o' 'o' 'o' 'o' 'o' 'o' 'o' 'o' 'o' 'o' 'o' 'o' 'o'\n",
      " 'o' 'o' 'o' 'o' 'o' 'o' 'o' 'o' 'o' 'o' 'o' 'o' 'o' 'o' 'o' 'o' 'o' 'o'\n",
      " 'o' 'o' 'o' 'o' 'o' 'o' 'o' 'o' 'o' 'o' 'o' 'o' 'o' 'o' 'o' 'o' 'o' 'o'\n",
      " 'o' 'o' 'o' 'o' 'o' 'o' 'o' 'o' 'location' 'organization' 'o' 'o'\n",
      " 'person' 'o' 'o' 'o' 'o' 'o' 'person' 'o' 'organization' 'o' 'o' 'o' 'o'\n",
      " 'organization' 'o' 'o' 'o' 'o' 'o' 'o' 'o' 'o' 'o' 'o' 'o' 'organization'\n",
      " 'o' 'o' 'o' 'o' 'o' 'o' 'o' 'o' 'o' 'o' 'o' 'o' 'o' 'o' 'o' 'o' 'o' 'o'\n",
      " 'o' 'o' 'o' 'o' 'o' 'o' 'o' 'o' 'o' 'o' 'o' 'o' 'o' 'o' 'o' 'location'\n",
      " 'location' 'o' 'o' 'o' 'o' 'o' 'o' 'o' 'location' 'o' 'o' 'o' 'o'\n",
      " 'organization' 'o' 'o' 'o' 'o' 'o' 'o' 'o' 'o' 'o' 'o' 'o' 'o' 'o' 'o'\n",
      " 'o' 'o' 'o' 'o' 'o' 'o' 'o' 'o' 'o' 'o' 'o' 'o' 'organization' 'o' 'o'\n",
      " 'o' 'o' 'o' 'o' 'o' 'o' 'o' 'o' 'o' 'o' 'o' 'o' 'o' 'o' 'o' 'o' 'o' 'o'\n",
      " 'o' 'o' 'o' 'o' 'o' 'o' 'o' 'o' 'o' 'o' 'o']\n"
     ]
    }
   ],
   "source": [
    "print(y_pred)"
   ]
  },
  {
   "cell_type": "code",
   "execution_count": 20,
   "metadata": {
    "scrolled": true
   },
   "outputs": [
    {
     "name": "stdout",
     "output_type": "stream",
     "text": [
      "['o' 'o' 'o' 'o' 'o' 'o' 'o' 'o' 'o' 'o' 'o' 'o' 'o' 'o' 'o' 'o' 'o' 'o'\n",
      " 'o' 'o' 'o' 'o' 'o' 'o' 'o' 'o' 'o' 'o' 'o' 'o' 'o' 'o' 'o' 'o' 'o' 'o'\n",
      " 'o' 'o' 'o' 'o' 'o' 'o' 'o' 'o' 'o' 'o' 'o' 'o' 'o' 'o' 'o' 'o' 'o' 'o'\n",
      " 'o' 'o' 'o' 'o' 'o' 'o' 'o' 'o' 'o' 'o' 'o' 'o' 'o' 'o' 'o' 'o' 'o' 'o'\n",
      " 'o' 'o' 'o' 'o' 'o' 'o' 'o' 'o' 'o' 'o' 'o' 'o' 'o' 'o' 'o' 'o' 'o' 'o'\n",
      " 'o' 'o' 'o' 'o' 'o' 'o' 'o' 'o' 'o' 'o' 'o' 'o' 'o' 'o' 'o' 'o' 'o' 'o'\n",
      " 'o' 'o' 'o' 'o' 'o' 'o' 'o' 'o' 'o' 'o' 'o' 'o' 'o' 'o' 'o' 'o' 'o' 'o'\n",
      " 'o' 'o' 'o' 'o' 'o' 'o' 'o' 'o' 'o' 'o' 'o' 'o' 'o' 'o' 'o' 'o' 'o' 'o'\n",
      " 'o' 'o' 'o' 'o' 'o' 'o' 'o' 'o' 'o' 'o' 'o' 'o' 'o' 'o' 'o' 'o' 'o' 'o'\n",
      " 'o' 'o' 'o' 'o' 'o' 'o' 'o' 'o' 'o' 'o' 'o' 'o' 'o' 'o' 'o' 'o' 'o' 'o'\n",
      " 'o' 'o' 'o' 'o' 'o' 'o' 'o' 'o' 'o' 'o' 'o' 'o' 'o' 'o' 'o' 'o' 'o' 'o'\n",
      " 'o' 'o' 'o' 'o' 'o' 'o' 'o' 'o' 'o' 'o' 'o' 'o' 'o' 'o' 'o' 'o' 'o' 'o'\n",
      " 'o' 'o' 'o' 'o' 'o' 'o' 'o' 'o' 'o' 'o' 'o' 'o' 'o' 'o' 'o' 'o' 'o' 'o'\n",
      " 'o' 'o' 'o' 'o' 'o' 'o' 'o' 'o' 'o' 'o' 'o' 'o' 'o' 'o' 'o' 'o' 'o' 'o'\n",
      " 'o' 'o' 'o' 'o' 'o' 'o' 'o' 'o' 'location' 'organization' 'o' 'o'\n",
      " 'person' 'o' 'o' 'o' 'o' 'o' 'person' 'o' 'organization' 'o' 'o' 'o' 'o'\n",
      " 'organization' 'o' 'o' 'o' 'o' 'o' 'o' 'o' 'o' 'o' 'o' 'o' 'organization'\n",
      " 'o' 'o' 'o' 'o' 'o' 'o' 'o' 'o' 'o' 'o' 'o' 'o' 'o' 'o' 'o' 'o' 'o' 'o'\n",
      " 'o' 'o' 'o' 'o' 'o' 'o' 'o' 'o' 'o' 'o' 'o' 'o' 'o' 'o' 'o' 'location'\n",
      " 'location' 'o' 'o' 'o' 'o' 'o' 'o' 'o' 'location' 'o' 'o' 'o' 'o'\n",
      " 'organization' 'o' 'o' 'o' 'o' 'o' 'o' 'o' 'o' 'o' 'o' 'o' 'o' 'o' 'o'\n",
      " 'o' 'o' 'o' 'o' 'o' 'o' 'o' 'o' 'o' 'o' 'o' 'o' 'organization' 'o' 'o'\n",
      " 'o' 'o' 'o' 'o' 'o' 'o' 'o' 'o' 'o' 'o' 'o' 'o' 'o' 'o' 'o' 'o' 'o' 'o'\n",
      " 'o' 'o' 'o' 'o' 'o' 'o' 'o' 'o' 'o' 'o' 'o']\n"
     ]
    }
   ],
   "source": [
    "y_pred_invers = y_pred\n",
    "print(y_pred_invers)"
   ]
  },
  {
   "cell_type": "code",
   "execution_count": 21,
   "metadata": {},
   "outputs": [
    {
     "name": "stdout",
     "output_type": "stream",
     "text": [
      "[[  0   7   0   0]\n",
      " [  2 349   2   0]\n",
      " [  0   5   1   1]\n",
      " [  2  23   3   1]]\n",
      "              precision    recall  f1-score   support\n",
      "\n",
      "    location       0.00      0.00      0.00         7\n",
      "           o       0.91      0.99      0.95       353\n",
      "organization       0.17      0.14      0.15         7\n",
      "      person       0.50      0.03      0.06        29\n",
      "\n",
      "    accuracy                           0.89       396\n",
      "   macro avg       0.39      0.29      0.29       396\n",
      "weighted avg       0.85      0.89      0.85       396\n",
      "\n"
     ]
    }
   ],
   "source": [
    "from sklearn.metrics import classification_report, confusion_matrix\n",
    "print(confusion_matrix(y_test, y_pred))\n",
    "print(classification_report(y_test, y_pred))"
   ]
  },
  {
   "cell_type": "markdown",
   "metadata": {},
   "source": [
    "<h3>Hasil</h3>"
   ]
  },
  {
   "cell_type": "code",
   "execution_count": 22,
   "metadata": {},
   "outputs": [],
   "source": [
    "newData = []\n",
    "for i in range(802,1198):\n",
    "    newData.append(data[i])\n",
    "    \n",
    "person = []\n",
    "location = []\n",
    "organization = []\n",
    "for i in range(len(newData)):\n",
    "    if y_pred_invers[i] == 'person':\n",
    "        person.append(newData[i]['word'])\n",
    "    elif y_pred_invers[i] == 'location':\n",
    "        location.append(newData[i]['word'])\n",
    "    elif y_pred_invers[i] == 'organization':\n",
    "        organization.append(newData[i]['word'])"
   ]
  },
  {
   "cell_type": "code",
   "execution_count": 23,
   "metadata": {},
   "outputs": [
    {
     "name": "stdout",
     "output_type": "stream",
     "text": [
      "['Subianto', 'Komisi']\n",
      "['Menteri', 'Wamenhan', 'Sakti', 'Risma']\n",
      "['Pertahanan', 'DPR', 'Dahnil', 'Dahnil', 'Arek-arek', 'Daddy']\n"
     ]
    }
   ],
   "source": [
    "print(person)\n",
    "print(location)\n",
    "print(organization)"
   ]
  }
 ],
 "metadata": {
  "kernelspec": {
   "display_name": "Python 3",
   "language": "python",
   "name": "python3"
  },
  "language_info": {
   "codemirror_mode": {
    "name": "ipython",
    "version": 3
   },
   "file_extension": ".py",
   "mimetype": "text/x-python",
   "name": "python",
   "nbconvert_exporter": "python",
   "pygments_lexer": "ipython3",
   "version": "3.6.8"
  }
 },
 "nbformat": 4,
 "nbformat_minor": 2
}
