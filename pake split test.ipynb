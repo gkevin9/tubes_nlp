{
 "cells": [
  {
   "cell_type": "code",
   "execution_count": 1,
   "metadata": {},
   "outputs": [],
   "source": [
    "from sklearn.neighbors import KNeighborsClassifier\n",
    "# from sklearn import preprocessing\n",
    "import pickle\n",
    "import pandas as pd\n",
    "import numpy as np\n",
    "from sklearn.preprocessing import OneHotEncoder\n",
    "from sklearn.model_selection import train_test_split"
   ]
  },
  {
   "cell_type": "code",
   "execution_count": 2,
   "metadata": {},
   "outputs": [],
   "source": [
    "import os\n",
    "from flask import Flask, flash, request, redirect, url_for, render_template\n",
    "\n",
    "app = Flask(__name__)\n",
    "upload_path = 'inputs'\n",
    "app.config['UPLOAD_FOLDER'] = upload_path"
   ]
  },
  {
   "cell_type": "code",
   "execution_count": 3,
   "metadata": {},
   "outputs": [],
   "source": [
    "@app.route(\"/\")#methods=[\"GET\", \"POST\"]\n",
    "def main():\n",
    "    return render_template('inputForm.html')\n",
    "\n",
    "@app.route(\"/get-file\", methods=['POST', 'GET'])\n",
    "def submitted():\n",
    "    global file_content\n",
    "    \n",
    "    if request.method == 'POST':\n",
    "        result = request.form['file-select']\n",
    "        \n",
    "        result = os.path.join(upload_path, result)\n",
    "        \n",
    "#         text = open(result,'r+')\n",
    "#         content = text.read()\n",
    "#         file_content = result\n",
    "#         text.close()\n",
    "        \n",
    "        listPerson = []\n",
    "        listOrg = []\n",
    "        listLocation = []\n",
    "        \n",
    "        listPerson, listOrg, listLocation = prediksi(result)\n",
    "        \n",
    "#         listPerson = ['Airlangga', 'Hartarto', 'Kevin']\n",
    "#         listOrg = ['ITHB', 'Kemendikbud', 'MK']\n",
    "#         listLocation = ['Jakarta', 'Bandung', 'Istana negara']\n",
    "        \n",
    "#         print(content)\n",
    "        return render_template('upload.html', list_person = listPerson, list_org = listOrg, list_loc = listLocation)"
   ]
  },
  {
   "cell_type": "code",
   "execution_count": null,
   "metadata": {
    "scrolled": false
   },
   "outputs": [],
   "source": []
  },
  {
   "cell_type": "markdown",
   "metadata": {},
   "source": [
    "<h1>Load hasil baca berita</h1>"
   ]
  },
  {
   "cell_type": "code",
   "execution_count": 4,
   "metadata": {},
   "outputs": [],
   "source": [
    "def loadPickle(name):\n",
    "    file = open(name, 'rb')\n",
    "    data = pickle.load(file)\n",
    "    file.close()\n",
    "    \n",
    "    return data"
   ]
  },
  {
   "cell_type": "code",
   "execution_count": 5,
   "metadata": {},
   "outputs": [],
   "source": [
    "def listOfDictToDataFrame(listOfDict):\n",
    "    dataFrame = pd.DataFrame(listOfDict)\n",
    "    \n",
    "    x = dataFrame.iloc[:, :-1].values\n",
    "    y = dataFrame.iloc[:, 4].values\n",
    "    \n",
    "    return dataFrame, x, y"
   ]
  },
  {
   "cell_type": "markdown",
   "metadata": {},
   "source": [
    "<h1>Baca Data Test</h1>"
   ]
  },
  {
   "cell_type": "code",
   "execution_count": 6,
   "metadata": {},
   "outputs": [],
   "source": [
    "def extFeature(words):\n",
    "    listOfDictFeature = []\n",
    "    i = 0\n",
    "    for i in range(len(words)): #iterasi dari awal tiap kata\n",
    "        dictFeature = {}\n",
    "        \n",
    "        dictFeature = inputToDict(words, i)\n",
    "        \n",
    "        listOfDictFeature.append(dictFeature)\n",
    "        \n",
    "    return listOfDictFeature\n",
    "\n",
    "def inputToDict(words, i):\n",
    "    dictFeature = {}\n",
    "    \n",
    "    dictFeature['index'] = i    \n",
    "    dictFeature['first_upper_case'] = isFirstUpper(words[i])\n",
    "    dictFeature['prev_word'] = isEdge(i, words)\n",
    "    dictFeature['word'] = words[i]\n",
    "    dictFeature['jenis'] = 'o'\n",
    "    \n",
    "    return dictFeature\n",
    "\n",
    "def isFirstUpper(word):\n",
    "    if word[0].isupper():\n",
    "        return 'y'\n",
    "    else:\n",
    "        return 'n'\n",
    "    \n",
    "def isEdge(i, words):\n",
    "    if i == 0:\n",
    "        return 'null'\n",
    "    else:\n",
    "        return words[i-1]"
   ]
  },
  {
   "cell_type": "code",
   "execution_count": 7,
   "metadata": {},
   "outputs": [],
   "source": [
    "def readPerWord(file):\n",
    "    words = []\n",
    "    f = open(file, 'r') #open file\n",
    "    for line in f:\n",
    "        words = line.split(' ') #tiap satu baris split per kata\n",
    "    \n",
    "    f.close()\n",
    "    \n",
    "    words[len(words)-1] = words[len(words)-1].replace('\\n',' ')\n",
    "\n",
    "    return words"
   ]
  },
  {
   "cell_type": "code",
   "execution_count": 8,
   "metadata": {},
   "outputs": [],
   "source": [
    "def prediksi(file):\n",
    "    testWord = readPerWord(file)\n",
    "#     print(tesWord)\n",
    "    listOfDictFeature = extFeature(testWord)\n",
    "#     print(listOfDictFeature)\n",
    "    panjangTestWord = len(listOfDictFeature)\n",
    "    \n",
    "    data = loadPickle(\"training.pickle\")\n",
    "    \n",
    "    data.extend(listOfDictFeature)\n",
    "    \n",
    "    totalPanjangData = len(data)\n",
    "    \n",
    "    dataFrame, x, y = listOfDictToDataFrame(data)\n",
    "    \n",
    "#     for i in x:\n",
    "#         print(i)\n",
    "    \n",
    "    forx = OneHotEncoder(handle_unknown='ignore')\n",
    "    forx.fit(x)\n",
    "    newx = forx.transform(x).toarray()\n",
    "#     print(len(newx),len(newx[0]))\n",
    "    \n",
    "    X_train, X_test, y_train, y_test = train_test_split(newx, y, test_size = panjangTestWord, shuffle=False)\n",
    "    \n",
    "#     print(len(X_train),len(X_train[0]))\n",
    "#     print(len(X_test),len(X_test[0]))\n",
    "#     print(len(y_train))\n",
    "#     print(len(y_test))\n",
    "    \n",
    "    classifier = KNeighborsClassifier(n_neighbors=5)\n",
    "    classifier.fit(X_train,y_train)\n",
    "    \n",
    "    y_pred = classifier.predict(X_test)\n",
    "#     print(y_pred)\n",
    "    \n",
    "    wordInvers = forx.inverse_transform(X_test)\n",
    "#     print(wordInvers)\n",
    "    \n",
    "    person = []\n",
    "    location = []\n",
    "    organization = []\n",
    "    for i in range(len(y_pred)):\n",
    "        if y_pred[i] == 'person':\n",
    "            person.append(wordInvers[i][3])\n",
    "        elif y_pred[i] == 'location':\n",
    "            location.append(wordInvers[i][3])\n",
    "        elif y_pred[i] == 'organization':\n",
    "            organization.append(wordInvers[i][3])\n",
    "#     print(person)\n",
    "#     print(location)\n",
    "#     print(organization)\n",
    "            \n",
    "    return person, location, organization"
   ]
  },
  {
   "cell_type": "code",
   "execution_count": 9,
   "metadata": {},
   "outputs": [
    {
     "name": "stdout",
     "output_type": "stream",
     "text": [
      " * Serving Flask app \"__main__\" (lazy loading)\n",
      " * Environment: production\n",
      "   WARNING: This is a development server. Do not use it in a production deployment.\n",
      "   Use a production WSGI server instead.\n",
      " * Debug mode: off\n"
     ]
    },
    {
     "name": "stderr",
     "output_type": "stream",
     "text": [
      " * Running on http://127.0.0.1:5000/ (Press CTRL+C to quit)\n",
      "127.0.0.1 - - [19/Nov/2019 11:42:36] \"GET / HTTP/1.1\" 200 -\n",
      "127.0.0.1 - - [19/Nov/2019 11:43:07] \"POST /get-file HTTP/1.1\" 200 -\n"
     ]
    }
   ],
   "source": [
    "if __name__ == '__main__':\n",
    "    app.run()"
   ]
  }
 ],
 "metadata": {
  "kernelspec": {
   "display_name": "Python 3",
   "language": "python",
   "name": "python3"
  },
  "language_info": {
   "codemirror_mode": {
    "name": "ipython",
    "version": 3
   },
   "file_extension": ".py",
   "mimetype": "text/x-python",
   "name": "python",
   "nbconvert_exporter": "python",
   "pygments_lexer": "ipython3",
   "version": "3.6.8"
  }
 },
 "nbformat": 4,
 "nbformat_minor": 2
}
