{
 "cells": [
  {
   "cell_type": "code",
   "execution_count": 2,
   "metadata": {},
   "outputs": [],
   "source": [
    "from sklearn.neighbors import KNeighborsClassifier\n",
    "from sklearn import preprocessing\n",
    "import pickle\n",
    "import pandas as pd\n",
    "import numpy as np"
   ]
  },
  {
   "cell_type": "markdown",
   "metadata": {},
   "source": [
    "<h1>Load hasil baca berita</h1>"
   ]
  },
  {
   "cell_type": "code",
   "execution_count": 3,
   "metadata": {},
   "outputs": [],
   "source": [
    "def loadPickle(name):\n",
    "    file = open(name, 'rb')\n",
    "    data = pickle.load(file)\n",
    "    file.close()\n",
    "    \n",
    "    return data"
   ]
  },
  {
   "cell_type": "code",
   "execution_count": 4,
   "metadata": {},
   "outputs": [],
   "source": [
    "def listOfDictToDataFrame(listOfDict):\n",
    "    dataFrame = pd.DataFrame(listOfDict)\n",
    "    \n",
    "    x = dataFrame.iloc[:, :-1].values\n",
    "    y = dataFrame.iloc[:, 4].values\n",
    "    \n",
    "    return dataFrame, x, y"
   ]
  },
  {
   "cell_type": "markdown",
   "metadata": {},
   "source": [
    "<h1>Bangun Label encoder</h1>"
   ]
  },
  {
   "cell_type": "code",
   "execution_count": 5,
   "metadata": {},
   "outputs": [],
   "source": [
    "forX = preprocessing.LabelEncoder()\n",
    "forY = preprocessing.LabelEncoder()\n",
    "forNewX = preprocessing.LabelEncoder()"
   ]
  },
  {
   "cell_type": "code",
   "execution_count": 6,
   "metadata": {},
   "outputs": [],
   "source": [
    "def labelEncoderX(x):\n",
    "    temp = x[0] #[ 0 'sss' 'sss' 'sss']\n",
    "    x = np.delete(x,0) #['sss' 'sss' 'sss']\n",
    "    \n",
    "    forX.fit(x)\n",
    "    x = forX.transform(x) #[2 2 1]\n",
    "    x = np.append(x,temp) #[2 2 1 0]\n",
    "    \n",
    "    return x"
   ]
  },
  {
   "cell_type": "code",
   "execution_count": 7,
   "metadata": {},
   "outputs": [],
   "source": [
    "def labelEncoderNewX(x):\n",
    "    temp = x[0] #[ 0 'sss' 'sss' 'sss']\n",
    "    x = np.delete(x,0) #['sss' 'sss' 'sss']\n",
    "    \n",
    "    forNewX.fit(x)\n",
    "    x = forNewX.transform(x) #[2 2 1]\n",
    "    x = np.append(x,temp) #[2 2 1 0]\n",
    "    \n",
    "    return x"
   ]
  },
  {
   "cell_type": "markdown",
   "metadata": {},
   "source": [
    "<h1>Baca Data Test</h1>"
   ]
  },
  {
   "cell_type": "code",
   "execution_count": 8,
   "metadata": {},
   "outputs": [],
   "source": [
    "def extFeature(words):\n",
    "    listOfDictFeature = []\n",
    "    i = 0\n",
    "    for i in range(len(words)): #iterasi dari awal tiap kata\n",
    "        dictFeature = {}\n",
    "        \n",
    "        dictFeature = inputToDict(words, i)\n",
    "        \n",
    "        listOfDictFeature.append(dictFeature)\n",
    "        \n",
    "    return listOfDictFeature\n",
    "\n",
    "def inputToDict(words, i):\n",
    "    dictFeature = {}\n",
    "    \n",
    "    dictFeature['index'] = i    \n",
    "    dictFeature['first_upper_case'] = isFirstUpper(words[i])\n",
    "    dictFeature['prev_word'] = isEdge(i, words)\n",
    "    dictFeature['word'] = words[i]\n",
    "    \n",
    "    return dictFeature\n",
    "\n",
    "def isFirstUpper(word):\n",
    "    if word[0].isupper():\n",
    "        return 'y'\n",
    "    else:\n",
    "        return 'n'\n",
    "    \n",
    "def isEdge(i, words):\n",
    "    if i == 0:\n",
    "        return 'null'\n",
    "    else:\n",
    "        return words[i-1]"
   ]
  },
  {
   "cell_type": "code",
   "execution_count": 9,
   "metadata": {},
   "outputs": [],
   "source": [
    "def readPerWord(file):\n",
    "    words = []\n",
    "    f = open(file, 'r') #open file\n",
    "    for line in f:\n",
    "        words = line.split(' ') #tiap satu baris split per kata\n",
    "    \n",
    "    f.close()\n",
    "    \n",
    "    words[len(words)-1] = words[len(words)-1].replace('\\n',' ')\n",
    "\n",
    "    return words"
   ]
  },
  {
   "cell_type": "markdown",
   "metadata": {},
   "source": [
    "<h1>Proses ==============</h1>"
   ]
  },
  {
   "cell_type": "code",
   "execution_count": 10,
   "metadata": {},
   "outputs": [],
   "source": [
    "data = loadPickle(\"training.pickle\")\n",
    "dataFrame, x, y = listOfDictToDataFrame(data)"
   ]
  },
  {
   "cell_type": "code",
   "execution_count": 11,
   "metadata": {},
   "outputs": [],
   "source": [
    "#forX biar string jadi skala\n",
    "#tiap 1 list dijadikan angka dengan label encoder\n",
    "for i in range (len(x)):\n",
    "    temp = []\n",
    "    temp = labelEncoderX(x[i])\n",
    "    x[i] = temp"
   ]
  },
  {
   "cell_type": "code",
   "execution_count": 12,
   "metadata": {},
   "outputs": [],
   "source": [
    "#forY biar string jadi skala\n",
    "forY = preprocessing.LabelEncoder()\n",
    "forY.fit(y)\n",
    "y = forY.transform(y)"
   ]
  },
  {
   "cell_type": "markdown",
   "metadata": {},
   "source": [
    "<h3>Bangun classifier KNN</h3>"
   ]
  },
  {
   "cell_type": "code",
   "execution_count": 13,
   "metadata": {
    "scrolled": false
   },
   "outputs": [
    {
     "data": {
      "text/plain": [
       "KNeighborsClassifier(algorithm='auto', leaf_size=30, metric='minkowski',\n",
       "                     metric_params=None, n_jobs=None, n_neighbors=5, p=2,\n",
       "                     weights='uniform')"
      ]
     },
     "execution_count": 13,
     "metadata": {},
     "output_type": "execute_result"
    }
   ],
   "source": [
    "classifier = KNeighborsClassifier(n_neighbors=5)\n",
    "classifier.fit(x, y)"
   ]
  },
  {
   "cell_type": "code",
   "execution_count": 14,
   "metadata": {},
   "outputs": [],
   "source": [
    "testWord = readPerWord(\"test.txt\")\n",
    "listOfDictFeature = extFeature(testWord)\n",
    "df = pd.DataFrame(listOfDictFeature)\n",
    "\n",
    "#mengubah data frame ke list\n",
    "newdf = df.iloc[:, :].values"
   ]
  },
  {
   "cell_type": "code",
   "execution_count": 15,
   "metadata": {},
   "outputs": [],
   "source": [
    "#forNewX biar string jadi skala\n",
    "#tiap 1 list dijadikan angka dengan label encoder\n",
    "for i in range (len(newdf)):\n",
    "    temp = []\n",
    "    temp = labelEncoderNewX(newdf[i])\n",
    "    newdf[i] = temp"
   ]
  },
  {
   "cell_type": "markdown",
   "metadata": {},
   "source": [
    "<h3>Prediksi</h3>"
   ]
  },
  {
   "cell_type": "code",
   "execution_count": 16,
   "metadata": {
    "scrolled": true
   },
   "outputs": [],
   "source": [
    "y_pred = classifier.predict(newdf)"
   ]
  },
  {
   "cell_type": "code",
   "execution_count": 17,
   "metadata": {
    "scrolled": false
   },
   "outputs": [
    {
     "name": "stdout",
     "output_type": "stream",
     "text": [
      "[3 3 3 3 3 1 1 1 1 1 1 0 0 1 1 1 1 1 1 1 1 1 2 2 1 1 1 1 1 1 1 1]\n"
     ]
    }
   ],
   "source": [
    "print(y_pred)"
   ]
  },
  {
   "cell_type": "code",
   "execution_count": 18,
   "metadata": {
    "scrolled": false
   },
   "outputs": [
    {
     "name": "stdout",
     "output_type": "stream",
     "text": [
      "['person', 'person', 'person', 'person', 'person', 'o', 'o', 'o', 'o', 'o', 'o', 'location', 'location', 'o', 'o', 'o', 'o', 'o', 'o', 'o', 'o', 'o', 'organization', 'organization', 'o', 'o', 'o', 'o', 'o', 'o', 'o', 'o']\n"
     ]
    }
   ],
   "source": [
    "y_pred_invers = list(forY.inverse_transform(y_pred))\n",
    "print(y_pred_invers)"
   ]
  },
  {
   "cell_type": "markdown",
   "metadata": {},
   "source": [
    "<h3>Hasil</h3>"
   ]
  },
  {
   "cell_type": "code",
   "execution_count": 19,
   "metadata": {},
   "outputs": [],
   "source": [
    "person = []\n",
    "location = []\n",
    "organization = []\n",
    "for i in range(len(df)):\n",
    "    if y_pred_invers[i] == 'person':\n",
    "        person.append(df['word'][i])\n",
    "    elif y_pred_invers[i] == 'location':\n",
    "        location.append(df['word'][i])\n",
    "    elif y_pred_invers[i] == 'organization':\n",
    "        organization.append(df['word'][i])"
   ]
  },
  {
   "cell_type": "code",
   "execution_count": 20,
   "metadata": {},
   "outputs": [
    {
     "name": "stdout",
     "output_type": "stream",
     "text": [
      "['Dari', 'Arab', 'Saudi,', 'Habib', 'Rizieq']\n",
      "['Subianto', 'mengaku']\n",
      "['kata', 'Prabowo']\n"
     ]
    }
   ],
   "source": [
    "print(person)\n",
    "print(location)\n",
    "print(organization)"
   ]
  }
 ],
 "metadata": {
  "kernelspec": {
   "display_name": "Python 3",
   "language": "python",
   "name": "python3"
  },
  "language_info": {
   "codemirror_mode": {
    "name": "ipython",
    "version": 3
   },
   "file_extension": ".py",
   "mimetype": "text/x-python",
   "name": "python",
   "nbconvert_exporter": "python",
   "pygments_lexer": "ipython3",
   "version": "3.6.8"
  }
 },
 "nbformat": 4,
 "nbformat_minor": 2
}
