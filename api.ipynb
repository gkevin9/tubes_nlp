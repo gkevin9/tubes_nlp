{
 "cells": [
  {
   "cell_type": "markdown",
   "metadata": {},
   "source": [
    "#### Import & init"
   ]
  },
  {
   "cell_type": "code",
   "execution_count": 1,
   "metadata": {},
   "outputs": [],
   "source": [
    "import os\n",
    "from flask import Flask, flash, request, redirect, url_for, render_template\n",
    "from werkzeug.utils import secure_filename\n",
    "\n",
    "app = Flask(__name__)\n",
    "upload_path = 'inputs'\n",
    "app.config['UPLOAD_FOLDER'] = upload_path\n",
    "\n",
    "file_content = \"\""
   ]
  },
  {
   "cell_type": "markdown",
   "metadata": {},
   "source": [
    "#### Route untuk panggil html form upload txt"
   ]
  },
  {
   "cell_type": "code",
   "execution_count": 2,
   "metadata": {},
   "outputs": [],
   "source": [
    "@app.route(\"/\", methods=[\"GET\", \"POST\"])\n",
    "def main():\n",
    "    return render_template('inputForm.html')"
   ]
  },
  {
   "cell_type": "markdown",
   "metadata": {},
   "source": [
    "#### Route untuk dapetin data dari file"
   ]
  },
  {
   "cell_type": "code",
   "execution_count": 3,
   "metadata": {},
   "outputs": [],
   "source": [
    "@app.route(\"/get-file\", methods=['POST', 'GET'])\n",
    "def submitted():\n",
    "    global file_content\n",
    "    \n",
    "    if request.method == 'POST':\n",
    "        result = request.form['file-select']\n",
    "#         f = request.files['file-select']\n",
    "#         f.save(f.filename)\n",
    "#         filepath = os.path.join(app.config['UPLOAD_FOLDER'], f)\n",
    "#         f.save(filepath)\n",
    "        \n",
    "#         print(filepath)\n",
    "\n",
    "#         result = upload_path + result\n",
    "        result = os.path.join(upload_path, result)\n",
    "        \n",
    "        text = open(result,'r+')\n",
    "        content = text.read()\n",
    "        file_content = content\n",
    "        text.close()\n",
    "\n",
    "        return content"
   ]
  },
  {
   "cell_type": "markdown",
   "metadata": {},
   "source": [
    "#### Untuk run host 127.0.0.1:5000"
   ]
  },
  {
   "cell_type": "code",
   "execution_count": null,
   "metadata": {},
   "outputs": [
    {
     "name": "stdout",
     "output_type": "stream",
     "text": [
      " * Serving Flask app \"__main__\" (lazy loading)\n",
      " * Environment: production\n",
      "   WARNING: This is a development server. Do not use it in a production deployment.\n",
      "   Use a production WSGI server instead.\n",
      " * Debug mode: off\n"
     ]
    },
    {
     "name": "stderr",
     "output_type": "stream",
     "text": [
      " * Running on http://127.0.0.1:5000/ (Press CTRL+C to quit)\n",
      "127.0.0.1 - - [19/Nov/2019 06:10:16] \"POST /get-file HTTP/1.1\" 200 -\n"
     ]
    }
   ],
   "source": [
    "if __name__ == '__main__':\n",
    "    app.run()"
   ]
  }
 ],
 "metadata": {
  "kernelspec": {
   "display_name": "Python 3",
   "language": "python",
   "name": "python3"
  },
  "language_info": {
   "codemirror_mode": {
    "name": "ipython",
    "version": 3
   },
   "file_extension": ".py",
   "mimetype": "text/x-python",
   "name": "python",
   "nbconvert_exporter": "python",
   "pygments_lexer": "ipython3",
   "version": "3.7.2"
  }
 },
 "nbformat": 4,
 "nbformat_minor": 2
}
