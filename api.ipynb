{
 "cells": [
  {
   "cell_type": "markdown",
   "metadata": {},
   "source": [
    "#### Import & init"
   ]
  },
  {
   "cell_type": "code",
   "execution_count": null,
   "metadata": {},
   "outputs": [],
   "source": [
    "import os\n",
    "from flask import Flask, flash, request, redirect, url_for, render_template\n",
    "from werkzeug.utils import secure_filename\n",
    "\n",
    "app = Flask(__name__)\n",
    "upload_path = 'inputs'\n",
    "app.config['UPLOAD_FOLDER'] = upload_path\n",
    "\n",
    "file_content = ''"
   ]
  },
  {
   "cell_type": "markdown",
   "metadata": {},
   "source": [
    "#### Route untuk panggil html form upload txt"
   ]
  },
  {
   "cell_type": "code",
   "execution_count": null,
   "metadata": {},
   "outputs": [],
   "source": [
    "@app.route(\"/\", methods=[\"GET\", \"POST\"])\n",
    "def main():\n",
    "    return render_template('inputForm.html')"
   ]
  },
  {
   "cell_type": "markdown",
   "metadata": {},
   "source": [
    "#### Route untuk dapetin data dari file"
   ]
  },
  {
   "cell_type": "code",
   "execution_count": null,
   "metadata": {},
   "outputs": [],
   "source": [
    "@app.route(\"/get-file\", methods=['POST', 'GET'])\n",
    "def submitted():\n",
    "    global file_content\n",
    "    \n",
    "    if request.method == 'POST':\n",
    "        result = request.form['file-select']\n",
    "#         f = request.files['file-select']\n",
    "#         f.save(f.filename)\n",
    "#         filepath = os.path.join(app.config['UPLOAD_FOLDER'], f)\n",
    "#         f.save(filepath)\n",
    "        \n",
    "#         print(filepath)\n",
    "\n",
    "#         result = upload_path + result\n",
    "        result = os.path.join(upload_path, result)\n",
    "        \n",
    "        text = open(result,'r+')\n",
    "        content = text.read()\n",
    "        file_content = result\n",
    "        text.close()\n",
    "        \n",
    "        listPerson = ['Airlangga', 'Hartarto', 'Kevin']\n",
    "        listOrg = ['ITHB', 'Kemendikbud', 'MK']\n",
    "        listLocation = ['Jakarta', 'Bandung', 'Istana negara']\n",
    "        \n",
    "        print(content)\n",
    "        return render_template('upload.html', list_person = listPerson, list_org = listOrg, list_loc = listLocation)"
   ]
  },
  {
   "cell_type": "markdown",
   "metadata": {},
   "source": [
    "#### Untuk run host 127.0.0.1:5000"
   ]
  },
  {
   "cell_type": "code",
   "execution_count": null,
   "metadata": {},
   "outputs": [],
   "source": [
    "if __name__ == '__main__':\n",
    "    app.run()"
   ]
  }
 ],
 "metadata": {
  "kernelspec": {
   "display_name": "Python 3",
   "language": "python",
   "name": "python3"
  },
  "language_info": {
   "codemirror_mode": {
    "name": "ipython",
    "version": 3
   },
   "file_extension": ".py",
   "mimetype": "text/x-python",
   "name": "python",
   "nbconvert_exporter": "python",
   "pygments_lexer": "ipython3",
   "version": "3.7.2"
  }
 },
 "nbformat": 4,
 "nbformat_minor": 2
}
